{
  "nbformat": 4,
  "nbformat_minor": 0,
  "metadata": {
    "colab": {
      "provenance": [],
      "collapsed_sections": [],
      "authorship_tag": "ABX9TyNF7lnyTwvCN85QZruLqm0R",
      "include_colab_link": true
    },
    "kernelspec": {
      "name": "python3",
      "display_name": "Python 3"
    },
    "language_info": {
      "name": "python"
    }
  },
  "cells": [
    {
      "cell_type": "markdown",
      "metadata": {
        "id": "view-in-github",
        "colab_type": "text"
      },
      "source": [
        "<a href=\"https://colab.research.google.com/github/neisg/qrcode_Python/blob/main/Gerador_QRC.ipynb\" target=\"_parent\"><img src=\"https://colab.research.google.com/assets/colab-badge.svg\" alt=\"Open In Colab\"/></a>"
      ]
    },
    {
      "cell_type": "markdown",
      "source": [
        "Criando um qrcode em python"
      ],
      "metadata": {
        "id": "ce9uVyJ0zn_I"
      }
    },
    {
      "cell_type": "code",
      "source": [
        "!pip install qrcode pillow"
      ],
      "metadata": {
        "colab": {
          "base_uri": "https://localhost:8080/"
        },
        "id": "jou8IHmgy4TJ",
        "outputId": "9b87f134-5c34-4426-ef08-06dafc0b7e37"
      },
      "execution_count": 39,
      "outputs": [
        {
          "output_type": "stream",
          "name": "stdout",
          "text": [
            "Looking in indexes: https://pypi.org/simple, https://us-python.pkg.dev/colab-wheels/public/simple/\n",
            "Requirement already satisfied: qrcode in /usr/local/lib/python3.7/dist-packages (7.3.1)\n",
            "Requirement already satisfied: pillow in /usr/local/lib/python3.7/dist-packages (7.1.2)\n"
          ]
        }
      ]
    },
    {
      "cell_type": "code",
      "source": [
        "import qrcode \n",
        "\n",
        "imagem = \"https://www.youtube.com/watch?v=dQw4w9WgXcQ\""
      ],
      "metadata": {
        "id": "aAfGIzqAy4Pz"
      },
      "execution_count": 40,
      "outputs": []
    },
    {
      "cell_type": "code",
      "source": [
        "imagem = qrcode.make(\"https://www.youtube.com/watch?v=dQw4w9WgXcQ\")"
      ],
      "metadata": {
        "id": "CIXxWRmvAQTN"
      },
      "execution_count": 41,
      "outputs": []
    },
    {
      "cell_type": "code",
      "source": [
        "imagem.save(\"primeiro_qrcode.jpg\")"
      ],
      "metadata": {
        "id": "d73EkYpOAQJI"
      },
      "execution_count": 42,
      "outputs": []
    },
    {
      "cell_type": "markdown",
      "source": [
        "OUTRO EXEMPLO"
      ],
      "metadata": {
        "id": "pFnMnruSGicf"
      }
    },
    {
      "cell_type": "code",
      "source": [
        "import qrcode\n",
        "\n",
        "website_link = 'https://www.youtube.com/watch?v=dQw4w9WgXcQ'\n",
        "\n",
        "qr = qrcode.QRCode(version = 1, box_size = 5, border = 5)\n",
        "qr.add_data(website_link)\n",
        "qr.make()\n",
        "\n",
        "img = qr.make_image(fill_color = 'black', back_color = 'white')\n",
        "img.save('youtube_qr.png')"
      ],
      "metadata": {
        "id": "GlhqDwKV4jaU"
      },
      "execution_count": 43,
      "outputs": []
    },
    {
      "cell_type": "code",
      "source": [],
      "metadata": {
        "id": "JzDQ-kFb4jRm"
      },
      "execution_count": 43,
      "outputs": []
    },
    {
      "cell_type": "code",
      "source": [],
      "metadata": {
        "id": "z4t-3Tlt4i5_"
      },
      "execution_count": 43,
      "outputs": []
    }
  ]
}