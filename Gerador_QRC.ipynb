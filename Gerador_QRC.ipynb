{
  "nbformat": 4,
  "nbformat_minor": 0,
  "metadata": {
    "colab": {
      "provenance": [],
      "collapsed_sections": [],
      "authorship_tag": "ABX9TyO9kzgUIyMSUQkhbdiNQN8x",
      "include_colab_link": true
    },
    "kernelspec": {
      "name": "python3",
      "display_name": "Python 3"
    },
    "language_info": {
      "name": "python"
    }
  },
  "cells": [
    {
      "cell_type": "markdown",
      "metadata": {
        "id": "view-in-github",
        "colab_type": "text"
      },
      "source": [
        "<a href=\"https://colab.research.google.com/github/neisg/qrcode_Python/blob/main/Gerador_QRC.ipynb\" target=\"_parent\"><img src=\"https://colab.research.google.com/assets/colab-badge.svg\" alt=\"Open In Colab\"/></a>"
      ]
    },
    {
      "cell_type": "markdown",
      "source": [
        "Criando um qrcode em python"
      ],
      "metadata": {
        "id": "ce9uVyJ0zn_I"
      }
    },
    {
      "cell_type": "code",
      "source": [
        "pip install qrcode pillow"
      ],
      "metadata": {
        "colab": {
          "base_uri": "https://localhost:8080/"
        },
        "id": "jou8IHmgy4TJ",
        "outputId": "2e92ed59-ecdb-4e13-d473-b31efc023c94"
      },
      "execution_count": 78,
      "outputs": [
        {
          "output_type": "stream",
          "name": "stdout",
          "text": [
            "Looking in indexes: https://pypi.org/simple, https://us-python.pkg.dev/colab-wheels/public/simple/\n",
            "Requirement already satisfied: qrcode in /usr/local/lib/python3.7/dist-packages (7.3.1)\n",
            "Requirement already satisfied: pillow in /usr/local/lib/python3.7/dist-packages (7.1.2)\n"
          ]
        }
      ]
    },
    {
      "cell_type": "code",
      "source": [
        "import qrcode as qr"
      ],
      "metadata": {
        "id": "aAfGIzqAy4Pz"
      },
      "execution_count": 79,
      "outputs": []
    },
    {
      "cell_type": "code",
      "source": [
        "imagem = qrcode.make(\"https://www.youtube.com/watch?v=dQw4w9WgXcQ\")"
      ],
      "metadata": {
        "id": "CIXxWRmvAQTN"
      },
      "execution_count": 80,
      "outputs": []
    },
    {
      "cell_type": "code",
      "source": [
        "imagem.save(\"primeiro_qrcode.jpg\")"
      ],
      "metadata": {
        "id": "d73EkYpOAQJI"
      },
      "execution_count": 82,
      "outputs": []
    },
    {
      "cell_type": "markdown",
      "source": [
        "OUTRO EXEMPLO"
      ],
      "metadata": {
        "id": "pFnMnruSGicf"
      }
    },
    {
      "cell_type": "code",
      "source": [
        "#website_link = 'https://www.youtube.com/watch?v=dQw4w9WgXcQ'\n",
        "\n",
        "#qr = qrcode.QRCode(\n",
        "   # version=1,\n",
        "   # box_size=5,\n",
        "   # border=5\n",
        "#)"
      ],
      "metadata": {
        "id": "BioWuI6hy4LP"
      },
      "execution_count": 55,
      "outputs": []
    },
    {
      "cell_type": "code",
      "source": [
        "#qr.add_data(website_link)\n",
        "#qr.make()"
      ],
      "metadata": {
        "id": "5-lvMHNwy4G2"
      },
      "execution_count": 56,
      "outputs": []
    },
    {
      "cell_type": "code",
      "source": [
        "#img = qr.make_image(fill_color = 'black', back_color = 'white')"
      ],
      "metadata": {
        "id": "vpG-3ad6y4AY"
      },
      "execution_count": 57,
      "outputs": []
    },
    {
      "cell_type": "code",
      "source": [
        "#img.save(\"Python_qrcody.jpg\")"
      ],
      "metadata": {
        "id": "JDxcTgW04jh1"
      },
      "execution_count": 60,
      "outputs": []
    },
    {
      "cell_type": "code",
      "source": [],
      "metadata": {
        "id": "GlhqDwKV4jaU"
      },
      "execution_count": null,
      "outputs": []
    },
    {
      "cell_type": "code",
      "source": [],
      "metadata": {
        "id": "JzDQ-kFb4jRm"
      },
      "execution_count": null,
      "outputs": []
    },
    {
      "cell_type": "code",
      "source": [],
      "metadata": {
        "id": "z4t-3Tlt4i5_"
      },
      "execution_count": null,
      "outputs": []
    }
  ]
}